{
 "cells": [
  {
   "cell_type": "code",
   "id": "initial_id",
   "metadata": {
    "collapsed": true
   },
   "source": [
    "import pandas as pd\n",
    "import plotly.express as px\n",
    "import plotly.graph_objects as go\n",
    "\n",
    "from scripts.compute_kpis import latency_ms"
   ],
   "outputs": [],
   "execution_count": null
  },
  {
   "metadata": {},
   "cell_type": "markdown",
   "source": "## Import Data",
   "id": "3e9e9dc0ed66d263"
  },
  {
   "metadata": {},
   "cell_type": "code",
   "source": [
    "df = pd.read_csv('../data/kpis.csv', parse_dates=['timestamp'])\n",
    "df.head()"
   ],
   "id": "8f177cb2cdf6eeca",
   "outputs": [],
   "execution_count": null
  },
  {
   "metadata": {},
   "cell_type": "markdown",
   "source": "## Data Sanity Checks",
   "id": "c73b8ca739646e7a"
  },
  {
   "metadata": {},
   "cell_type": "code",
   "source": [
    "df.isna().sum()\n",
    "df[['latency_ms', 'link_qulaity', 'handover']].describe()"
   ],
   "id": "e1cb5911f32f5713",
   "outputs": [],
   "execution_count": null
  },
  {
   "metadata": {},
   "cell_type": "markdown",
   "source": "## Time Series of Latency & Link Quality",
   "id": "d9bdc65bba6e1c5c"
  },
  {
   "metadata": {},
   "cell_type": "code",
   "source": [
    "fig = px.line(df, x='timestamp', y='latency_ms', title='Satellite RTT(ms) Over Time', labels={'latency_ms':'RTT (ms)'})\n",
    "fig.show()\n",
    "\n",
    "fig2 = px.line(df, x='timestamp', y='link_qulaity', title='Link Quality Over Time', labels={'link_quality':'Link Quality (1/km)'})\n",
    "fig2.show()"
   ],
   "id": "7d4d6d32adc3ea91",
   "outputs": [],
   "execution_count": null
  },
  {
   "metadata": {},
   "cell_type": "markdown",
   "source": "## Handover Events",
   "id": "8a260b1e9ed6ba92"
  },
  {
   "metadata": {},
   "cell_type": "code",
   "source": [
    "df['cum_handover'] = df['handover'].cumsum()\n",
    "fig3 = px.line(df, x='timestamp', y='cum_handover', title='Cumulative Handover Count')\n",
    "fig3.show()\n",
    "\n",
    "handover_counts = df[df['handover'] == 1]['closest_gs'].value_counts().reset_index()\n",
    "handover_counts.columns = ['ground_station', 'handover_events']\n",
    "fig4 = px.bar(handover_counts, x='ground_station', y='handover_events', title='Handover Events per Ground Stations')\n",
    "fig4.show()"
   ],
   "id": "758de731ba53816b",
   "outputs": [],
   "execution_count": null
  },
  {
   "metadata": {},
   "cell_type": "markdown",
   "source": "## Distribution and Correlation",
   "id": "990ca98ca81bdd8b"
  },
  {
   "metadata": {},
   "cell_type": "code",
   "source": [
    "fig5 = px.histogram(df, x='latency_ms', nbins=30, marginal='box', title='Latency Distribution')\n",
    "fig5.show()\n",
    "\n",
    "fig6 = px.scatter(df, x='link_qulaity', y='latency_ms', title='Latency vs Link Quality', labels={ 'link_qulaity': 'Link Quality', 'latency_ms': 'RTT (ms)' })\n",
    "fig6.show()"
   ],
   "id": "2fa19007f5c75a64",
   "outputs": [],
   "execution_count": null
  },
  {
   "metadata": {},
   "cell_type": "markdown",
   "source": "## 3D orbit plot",
   "id": "39fb7af117cd8910"
  },
  {
   "metadata": {},
   "cell_type": "code",
   "source": [
    "df_positions = pd.read_csv('../data/simulated_passes.csv', parse_dates=['timestamp'])\n",
    "df_kpis = pd.read_csv('../data/kpis.csv', parse_dates=['timestamp'])\n",
    "\n",
    "df_merged = pd.merge(df_positions, df_kpis, on='timestamp')\n",
    "\n",
    "fig7 = px.scatter_3d(df_merged, x='x_km', y='y_km', z='z_km',\n",
    "                     color='latency_ms',\n",
    "                     title='3D Orbit Colored by RTT (ms)',\n",
    "                     labels={'latency_ms':'RTT (ms)'})\n",
    "fig7.update_traces(marker=dict(size=3))\n",
    "fig7.show()"
   ],
   "id": "d012dc025396b738",
   "outputs": [],
   "execution_count": null
  }
 ],
 "metadata": {
  "kernelspec": {
   "display_name": "Python 3",
   "language": "python",
   "name": "python3"
  },
  "language_info": {
   "codemirror_mode": {
    "name": "ipython",
    "version": 2
   },
   "file_extension": ".py",
   "mimetype": "text/x-python",
   "name": "python",
   "nbconvert_exporter": "python",
   "pygments_lexer": "ipython2",
   "version": "2.7.6"
  }
 },
 "nbformat": 4,
 "nbformat_minor": 5
}
